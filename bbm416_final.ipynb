{
  "nbformat": 4,
  "nbformat_minor": 0,
  "metadata": {
    "colab": {
      "provenance": [],
      "gpuType": "T4"
    },
    "kernelspec": {
      "name": "python3",
      "display_name": "Python 3"
    },
    "language_info": {
      "name": "python"
    },
    "accelerator": "GPU"
  },
  "cells": [
    {
      "cell_type": "code",
      "execution_count": null,
      "metadata": {
        "id": "xaOCjCDaVql6"
      },
      "outputs": [],
      "source": [
        "%matplotlib inline\n",
        "import matplotlib.pyplot as plt\n",
        "import tensorflow as tf\n",
        "from keras import preprocessing\n",
        "from keras.preprocessing import image\n",
        "from keras.preprocessing.image import ImageDataGenerator\n",
        "import shutil\n",
        "from tensorflow.keras.utils import plot_model\n",
        "from keras.optimizers import RMSprop,Adam\n",
        "from sklearn.metrics import confusion_matrix\n",
        "from sklearn.metrics import classification_report\n",
        "import numpy as np\n",
        "from google.colab import files\n",
        "from keras.preprocessing import image\n"
      ]
    },
    {
      "cell_type": "code",
      "source": [
        "from google.colab import drive\n",
        "drive.mount('/content/drive')"
      ],
      "metadata": {
        "colab": {
          "base_uri": "https://localhost:8080/"
        },
        "id": "Y6bFAqsQWE27",
        "outputId": "7a8db764-a6e8-4478-d317-39459c033510"
      },
      "execution_count": null,
      "outputs": [
        {
          "metadata": {
            "tags": null
          },
          "name": "stdout",
          "output_type": "stream",
          "text": [
            "Mounted at /content/drive\n"
          ]
        }
      ]
    },
    {
      "cell_type": "code",
      "source": [
        "!cp -r '/content/drive/MyDrive/newFire' /content/"
      ],
      "metadata": {
        "id": "hmoaUgIpWEyt"
      },
      "execution_count": null,
      "outputs": []
    },
    {
      "cell_type": "markdown",
      "source": [
        "### Preparing the images that are splitted into train, test, split"
      ],
      "metadata": {
        "id": "3gNfTaKzsXvH"
      }
    },
    {
      "cell_type": "code",
      "source": [
        "TRAINING_DIR = '/content/newFire/Training'\n",
        "TEST_DIR = '/content/newFire/Test'\n",
        "VALIDATION_DIR = '/content/newFire/Validation'\n",
        "\n",
        "training_datagen = ImageDataGenerator(rescale = 1./255,\n",
        "                                      horizontal_flip=True,\n",
        "\t\t\t\t\t\t\t\t\t\t\t\t\t\t\t\t\t\t\trotation_range=30,\n",
        "\t\t\t\t\t\t\t\t\t\t\t\t\t\t\t\t\t\t\theight_shift_range=0.2,\n",
        "                                      fill_mode='nearest')\n",
        "test_datagen = ImageDataGenerator(rescale = 1./255)\n",
        "validation_datagen = ImageDataGenerator(rescale = 1./255)\n",
        "\n",
        "train_generator = training_datagen.flow_from_directory(\n",
        "                                      TRAINING_DIR,\n",
        "                                      target_size=(224,224),\n",
        "                                      class_mode='categorical',\n",
        "                                      batch_size = 64\n",
        ")\n",
        "\n",
        "test_generator = test_datagen.flow_from_directory(\n",
        "                                      TEST_DIR,\n",
        "                                      target_size=(224,224),\n",
        "                                      class_mode='categorical',\n",
        "                                      batch_size= 16\n",
        ")\n",
        "\n",
        "validation_generator = validation_datagen.flow_from_directory(\n",
        "                                      VALIDATION_DIR,\n",
        "                                      target_size=(224,224),\n",
        "                                      class_mode='categorical',\n",
        "                                      batch_size= 16\n",
        ")\n"
      ],
      "metadata": {
        "colab": {
          "base_uri": "https://localhost:8080/"
        },
        "id": "TIhSp-J-WEwX",
        "outputId": "8d65aaa7-1d02-4fb3-8ee1-bf6877421223"
      },
      "execution_count": null,
      "outputs": [
        {
          "output_type": "stream",
          "name": "stdout",
          "text": [
            "Found 980 images belonging to 2 classes.\n",
            "Found 239 images belonging to 2 classes.\n",
            "Found 239 images belonging to 2 classes.\n"
          ]
        }
      ]
    },
    {
      "cell_type": "markdown",
      "source": [
        "### Creating the model"
      ],
      "metadata": {
        "id": "1EFT1-PKts9d"
      }
    },
    {
      "cell_type": "code",
      "source": [
        "model = tf.keras.models.Sequential([\n",
        "          tf.keras.layers.Conv2D(96, (11,11), strides=(4,4), activation='relu', input_shape=(224, 224, 3)),\n",
        "          tf.keras.layers.MaxPooling2D(pool_size = (3,3), strides=(2,2)),\n",
        "          tf.keras.layers.Conv2D(256, (5,5), activation='relu'),\n",
        "          tf.keras.layers.MaxPooling2D(pool_size = (3,3), strides=(2,2)),\n",
        "          tf.keras.layers.Conv2D(384, (5,5), activation='relu'),\n",
        "          tf.keras.layers.MaxPooling2D(pool_size = (3,3), strides=(2,2)),\n",
        "          tf.keras.layers.Flatten(),\n",
        "          tf.keras.layers.Dropout(0.2),\n",
        "          tf.keras.layers.Dense(2048, activation='relu'),\n",
        "          tf.keras.layers.Dropout(0.25),\n",
        "          tf.keras.layers.Dense(1024, activation='relu'),\n",
        "          tf.keras.layers.Dropout(0.2),\n",
        "          tf.keras.layers.Dense(2, activation='softmax')\n",
        "])\n",
        "model.compile(loss='categorical_crossentropy',\n",
        "              optimizer=Adam(learning_rate=0.0001),\n",
        "              metrics=['acc']);"
      ],
      "metadata": {
        "id": "S9oifZ-cWEt0"
      },
      "execution_count": null,
      "outputs": []
    },
    {
      "cell_type": "code",
      "source": [
        "model.summary()"
      ],
      "metadata": {
        "colab": {
          "base_uri": "https://localhost:8080/"
        },
        "id": "fYHRmCx79xl_",
        "outputId": "4b683c61-f416-40ca-b2fc-0ee04f06f588"
      },
      "execution_count": null,
      "outputs": [
        {
          "output_type": "stream",
          "name": "stdout",
          "text": [
            "Model: \"sequential\"\n",
            "_________________________________________________________________\n",
            " Layer (type)                Output Shape              Param #   \n",
            "=================================================================\n",
            " conv2d (Conv2D)             (None, 54, 54, 96)        34944     \n",
            "                                                                 \n",
            " max_pooling2d (MaxPooling2D  (None, 26, 26, 96)       0         \n",
            " )                                                               \n",
            "                                                                 \n",
            " conv2d_1 (Conv2D)           (None, 22, 22, 256)       614656    \n",
            "                                                                 \n",
            " max_pooling2d_1 (MaxPooling  (None, 10, 10, 256)      0         \n",
            " 2D)                                                             \n",
            "                                                                 \n",
            " conv2d_2 (Conv2D)           (None, 6, 6, 384)         2457984   \n",
            "                                                                 \n",
            " max_pooling2d_2 (MaxPooling  (None, 2, 2, 384)        0         \n",
            " 2D)                                                             \n",
            "                                                                 \n",
            " flatten (Flatten)           (None, 1536)              0         \n",
            "                                                                 \n",
            " dropout (Dropout)           (None, 1536)              0         \n",
            "                                                                 \n",
            " dense (Dense)               (None, 2048)              3147776   \n",
            "                                                                 \n",
            " dropout_1 (Dropout)         (None, 2048)              0         \n",
            "                                                                 \n",
            " dense_1 (Dense)             (None, 1024)              2098176   \n",
            "                                                                 \n",
            " dropout_2 (Dropout)         (None, 1024)              0         \n",
            "                                                                 \n",
            " dense_2 (Dense)             (None, 2)                 2050      \n",
            "                                                                 \n",
            "=================================================================\n",
            "Total params: 8,355,586\n",
            "Trainable params: 8,355,586\n",
            "Non-trainable params: 0\n",
            "_________________________________________________________________\n"
          ]
        }
      ]
    },
    {
      "cell_type": "markdown",
      "source": [
        "### Training the model"
      ],
      "metadata": {
        "id": "HBBfau6_tyGn"
      }
    },
    {
      "cell_type": "code",
      "source": [
        "history = model.fit(\n",
        "    train_generator,\n",
        "    steps_per_epoch = 15,\n",
        "    epochs = 50,\n",
        "    validation_data = validation_generator,\n",
        "    validation_steps = 15\n",
        ")"
      ],
      "metadata": {
        "colab": {
          "base_uri": "https://localhost:8080/"
        },
        "id": "ngeQZbg2WEqH",
        "outputId": "1d1cf693-4f3b-429a-ea1b-ee078b2fcdd8"
      },
      "execution_count": null,
      "outputs": [
        {
          "output_type": "stream",
          "name": "stdout",
          "text": [
            "Epoch 1/50\n",
            "15/15 [==============================] - 36s 2s/step - loss: 0.4315 - acc: 0.7609 - val_loss: 0.2181 - val_acc: 0.9205\n",
            "Epoch 2/50\n",
            "15/15 [==============================] - 25s 2s/step - loss: 0.2765 - acc: 0.9007 - val_loss: 0.2503 - val_acc: 0.9038\n",
            "Epoch 3/50\n",
            "15/15 [==============================] - 24s 2s/step - loss: 0.2619 - acc: 0.8919 - val_loss: 0.1698 - val_acc: 0.9331\n",
            "Epoch 4/50\n",
            "15/15 [==============================] - 26s 2s/step - loss: 0.2444 - acc: 0.9105 - val_loss: 0.1655 - val_acc: 0.9289\n",
            "Epoch 5/50\n",
            "15/15 [==============================] - 24s 2s/step - loss: 0.2243 - acc: 0.9170 - val_loss: 0.1689 - val_acc: 0.9247\n",
            "Epoch 6/50\n",
            "15/15 [==============================] - 24s 2s/step - loss: 0.2108 - acc: 0.9214 - val_loss: 0.2103 - val_acc: 0.9205\n",
            "Epoch 7/50\n",
            "15/15 [==============================] - 23s 2s/step - loss: 0.2096 - acc: 0.9203 - val_loss: 0.1981 - val_acc: 0.9247\n",
            "Epoch 8/50\n",
            "15/15 [==============================] - 24s 2s/step - loss: 0.1783 - acc: 0.9367 - val_loss: 0.1757 - val_acc: 0.9289\n",
            "Epoch 9/50\n",
            "15/15 [==============================] - 25s 2s/step - loss: 0.1693 - acc: 0.9400 - val_loss: 0.1333 - val_acc: 0.9498\n",
            "Epoch 10/50\n",
            "15/15 [==============================] - 24s 2s/step - loss: 0.1791 - acc: 0.9345 - val_loss: 0.1950 - val_acc: 0.9331\n",
            "Epoch 11/50\n",
            "15/15 [==============================] - 25s 2s/step - loss: 0.1831 - acc: 0.9389 - val_loss: 0.1419 - val_acc: 0.9414\n",
            "Epoch 12/50\n",
            "15/15 [==============================] - 25s 2s/step - loss: 0.1553 - acc: 0.9400 - val_loss: 0.1234 - val_acc: 0.9540\n",
            "Epoch 13/50\n",
            "15/15 [==============================] - 25s 2s/step - loss: 0.1910 - acc: 0.9345 - val_loss: 0.1407 - val_acc: 0.9498\n",
            "Epoch 14/50\n",
            "15/15 [==============================] - 24s 2s/step - loss: 0.1794 - acc: 0.9378 - val_loss: 0.1394 - val_acc: 0.9456\n",
            "Epoch 15/50\n",
            "15/15 [==============================] - 24s 2s/step - loss: 0.1785 - acc: 0.9400 - val_loss: 0.1280 - val_acc: 0.9498\n",
            "Epoch 16/50\n",
            "15/15 [==============================] - 24s 2s/step - loss: 0.1539 - acc: 0.9378 - val_loss: 0.1234 - val_acc: 0.9456\n",
            "Epoch 17/50\n",
            "15/15 [==============================] - 25s 2s/step - loss: 0.1544 - acc: 0.9389 - val_loss: 0.1617 - val_acc: 0.9414\n",
            "Epoch 18/50\n",
            "15/15 [==============================] - 26s 2s/step - loss: 0.1346 - acc: 0.9487 - val_loss: 0.1611 - val_acc: 0.9372\n",
            "Epoch 19/50\n",
            "15/15 [==============================] - 26s 2s/step - loss: 0.1446 - acc: 0.9509 - val_loss: 0.1282 - val_acc: 0.9498\n",
            "Epoch 20/50\n",
            "15/15 [==============================] - 25s 2s/step - loss: 0.1297 - acc: 0.9552 - val_loss: 0.1202 - val_acc: 0.9540\n",
            "Epoch 21/50\n",
            "15/15 [==============================] - 26s 2s/step - loss: 0.1217 - acc: 0.9509 - val_loss: 0.1386 - val_acc: 0.9498\n",
            "Epoch 22/50\n",
            "15/15 [==============================] - 26s 2s/step - loss: 0.1153 - acc: 0.9629 - val_loss: 0.1362 - val_acc: 0.9331\n",
            "Epoch 23/50\n",
            "15/15 [==============================] - 25s 2s/step - loss: 0.1388 - acc: 0.9454 - val_loss: 0.1175 - val_acc: 0.9456\n",
            "Epoch 24/50\n",
            "15/15 [==============================] - 25s 2s/step - loss: 0.1087 - acc: 0.9629 - val_loss: 0.1146 - val_acc: 0.9498\n",
            "Epoch 25/50\n",
            "15/15 [==============================] - 24s 2s/step - loss: 0.1157 - acc: 0.9585 - val_loss: 0.1186 - val_acc: 0.9456\n",
            "Epoch 26/50\n",
            "15/15 [==============================] - 25s 2s/step - loss: 0.1197 - acc: 0.9607 - val_loss: 0.1224 - val_acc: 0.9582\n",
            "Epoch 27/50\n",
            "15/15 [==============================] - 25s 2s/step - loss: 0.1224 - acc: 0.9498 - val_loss: 0.1332 - val_acc: 0.9540\n",
            "Epoch 28/50\n",
            "15/15 [==============================] - 26s 2s/step - loss: 0.1335 - acc: 0.9417 - val_loss: 0.1060 - val_acc: 0.9582\n",
            "Epoch 29/50\n",
            "15/15 [==============================] - 26s 2s/step - loss: 0.1223 - acc: 0.9574 - val_loss: 0.1460 - val_acc: 0.9414\n",
            "Epoch 30/50\n",
            "15/15 [==============================] - 26s 2s/step - loss: 0.1114 - acc: 0.9618 - val_loss: 0.1211 - val_acc: 0.9582\n",
            "Epoch 31/50\n",
            "15/15 [==============================] - 26s 2s/step - loss: 0.0861 - acc: 0.9646 - val_loss: 0.1440 - val_acc: 0.9540\n",
            "Epoch 32/50\n",
            "15/15 [==============================] - 25s 2s/step - loss: 0.0993 - acc: 0.9705 - val_loss: 0.1082 - val_acc: 0.9582\n",
            "Epoch 33/50\n",
            "15/15 [==============================] - 25s 2s/step - loss: 0.0909 - acc: 0.9662 - val_loss: 0.1068 - val_acc: 0.9540\n",
            "Epoch 34/50\n",
            "15/15 [==============================] - 24s 2s/step - loss: 0.0863 - acc: 0.9662 - val_loss: 0.1201 - val_acc: 0.9582\n",
            "Epoch 35/50\n",
            "15/15 [==============================] - 22s 2s/step - loss: 0.1018 - acc: 0.9629 - val_loss: 0.0989 - val_acc: 0.9540\n",
            "Epoch 36/50\n",
            "15/15 [==============================] - 24s 2s/step - loss: 0.1113 - acc: 0.9531 - val_loss: 0.1228 - val_acc: 0.9582\n",
            "Epoch 37/50\n",
            "15/15 [==============================] - 24s 2s/step - loss: 0.0884 - acc: 0.9662 - val_loss: 0.1338 - val_acc: 0.9665\n",
            "Epoch 38/50\n",
            "15/15 [==============================] - 24s 2s/step - loss: 0.0937 - acc: 0.9618 - val_loss: 0.0991 - val_acc: 0.9540\n",
            "Epoch 39/50\n",
            "15/15 [==============================] - 24s 2s/step - loss: 0.0700 - acc: 0.9705 - val_loss: 0.1025 - val_acc: 0.9582\n",
            "Epoch 40/50\n",
            "15/15 [==============================] - 24s 2s/step - loss: 0.0813 - acc: 0.9705 - val_loss: 0.1113 - val_acc: 0.9665\n",
            "Epoch 41/50\n",
            "15/15 [==============================] - 29s 2s/step - loss: 0.0615 - acc: 0.9793 - val_loss: 0.0913 - val_acc: 0.9623\n",
            "Epoch 42/50\n",
            "15/15 [==============================] - 25s 2s/step - loss: 0.0888 - acc: 0.9694 - val_loss: 0.1474 - val_acc: 0.9456\n",
            "Epoch 43/50\n",
            "15/15 [==============================] - 24s 2s/step - loss: 0.1087 - acc: 0.9705 - val_loss: 0.1028 - val_acc: 0.9540\n",
            "Epoch 44/50\n",
            "15/15 [==============================] - 24s 2s/step - loss: 0.0763 - acc: 0.9705 - val_loss: 0.1247 - val_acc: 0.9665\n",
            "Epoch 45/50\n",
            "15/15 [==============================] - 23s 2s/step - loss: 0.0732 - acc: 0.9760 - val_loss: 0.1138 - val_acc: 0.9623\n",
            "Epoch 46/50\n",
            "15/15 [==============================] - 24s 2s/step - loss: 0.0714 - acc: 0.9727 - val_loss: 0.0925 - val_acc: 0.9582\n",
            "Epoch 47/50\n",
            "15/15 [==============================] - 25s 2s/step - loss: 0.0764 - acc: 0.9719 - val_loss: 0.0922 - val_acc: 0.9707\n",
            "Epoch 48/50\n",
            "15/15 [==============================] - 24s 2s/step - loss: 0.0862 - acc: 0.9694 - val_loss: 0.1317 - val_acc: 0.9582\n",
            "Epoch 49/50\n",
            "15/15 [==============================] - 24s 2s/step - loss: 0.0885 - acc: 0.9672 - val_loss: 0.1169 - val_acc: 0.9707\n",
            "Epoch 50/50\n",
            "15/15 [==============================] - 22s 2s/step - loss: 0.0748 - acc: 0.9727 - val_loss: 0.2140 - val_acc: 0.9414\n"
          ]
        }
      ]
    },
    {
      "cell_type": "code",
      "source": [
        "#to save the model:\n",
        "model.save('fire_model.h5')"
      ],
      "metadata": {
        "id": "ijz9NQf2Fasq"
      },
      "execution_count": null,
      "outputs": []
    },
    {
      "cell_type": "code",
      "source": [
        "acc = history.history['acc']\n",
        "val_acc = history.history['val_acc']\n",
        "loss = history.history['loss']\n",
        "val_loss = history.history['val_loss']\n",
        "\n",
        "epochs = range(len(acc))\n",
        "\n",
        "plt.plot(epochs, acc, 'g', label='Training accuracy')\n",
        "plt.plot(epochs, val_acc, 'b', label='Validation accuracy')\n",
        "plt.title('Training and validation accuracy')\n",
        "plt.xlabel('Epoch')\n",
        "plt.ylabel('Accuracy')\n",
        "plt.legend(loc=0)\n",
        "plt.figure()\n",
        "plt.show()\n",
        "\n",
        "plt.plot(epochs, loss, 'r', label='Training loss')\n",
        "plt.plot(epochs, val_loss, 'orange', label='Validation loss')\n",
        "plt.title('Training and validation loss')\n",
        "plt.xlabel('Epoch')\n",
        "plt.ylabel('Loss')\n",
        "\n",
        "plt.legend(loc=0)\n",
        "plt.figure()\n",
        "plt.show()"
      ],
      "metadata": {
        "colab": {
          "base_uri": "https://localhost:8080/",
          "height": 962
        },
        "id": "T6x1Ky-AWEnv",
        "outputId": "a65fde91-73d0-46e6-9b06-fe77ce0e032e"
      },
      "execution_count": null,
      "outputs": [
        {
          "output_type": "display_data",
          "data": {
            "text/plain": [
              "<Figure size 640x480 with 1 Axes>"
            ],
            "image/png": "[encoded data removed]"
          },
          "metadata": {}
        },
        {
          "output_type": "display_data",
          "data": {
            "text/plain": [
              "<Figure size 640x480 with 0 Axes>"
            ]
          },
          "metadata": {}
        },
        {
          "output_type": "display_data",
          "data": {
            "text/plain": [
              "<Figure size 640x480 with 1 Axes>"
            ],
            "image/png": "[encoded data removed]"
          },
          "metadata": {}
        },
        {
          "output_type": "display_data",
          "data": {
            "text/plain": [
              "<Figure size 640x480 with 0 Axes>"
            ]
          },
          "metadata": {}
        }
      ]
    },
    {
      "cell_type": "code",
      "source": [
        "#predicting any random image\n",
        "\n",
        "uploaded = files.upload()\n",
        "for fn in uploaded.keys():\n",
        "  path = '/content/' + fn\n",
        "  img = tf.keras.utils.load_img(path, target_size=(224, 224))\n",
        "  x = tf.keras.utils.img_to_array(img)\n",
        "  x = np.expand_dims(x, axis=0) / 255\n",
        "  classes = model.predict(x)\n",
        "  print(np.argmax(classes[0])==0, max(classes[0]))"
      ],
      "metadata": {
        "colab": {
          "base_uri": "https://localhost:8080/",
          "height": 524
        },
        "id": "_IgPEq4X-H-i",
        "outputId": "f93ac68f-4cc5-4b82-e0b9-4848d001915a"
      },
      "execution_count": null,
      "outputs": [
        {
          "output_type": "display_data",
          "data": {
            "text/plain": [
              "<IPython.core.display.HTML object>"
            ],
            "text/html": [
              "\n",
              "     <input type=\"file\" id=\"files-9d69a85f-badf-42e8-a38e-b116402f521a\" name=\"files[]\" multiple disabled\n",
              "        style=\"border:none\" />\n",
              "     <output id=\"result-9d69a85f-badf-42e8-a38e-b116402f521a\">\n",
              "      Upload widget is only available when the cell has been executed in the\n",
              "      current browser session. Please rerun this cell to enable.\n",
              "      </output>\n",
              "      <script>// Copyright 2017 Google LLC\n",
              "//\n",
              "// Licensed under the Apache License, Version 2.0 (the \"License\");\n",
              "// you may not use this file except in compliance with the License.\n",
              "// You may obtain a copy of the License at\n",
              "//\n",
              "//      http://www.apache.org/licenses/LICENSE-2.0\n",
              "//\n",
              "// Unless required by applicable law or agreed to in writing, software\n",
              "// distributed under the License is distributed on an \"AS IS\" BASIS,\n",
              "// WITHOUT WARRANTIES OR CONDITIONS OF ANY KIND, either express or implied.\n",
              "// See the License for the specific language governing permissions and\n",
              "// limitations under the License.\n",
              "\n",
              "/**\n",
              " * @fileoverview Helpers for google.colab Python module.\n",
              " */\n",
              "(function(scope) {\n",
              "function span(text, styleAttributes = {}) {\n",
              "  const element = document.createElement('span');\n",
              "  element.textContent = text;\n",
              "  for (const key of Object.keys(styleAttributes)) {\n",
              "    element.style[key] = styleAttributes[key];\n",
              "  }\n",
              "  return element;\n",
              "}\n",
              "\n",
              "// Max number of bytes which will be uploaded at a time.\n",
              "const MAX_PAYLOAD_SIZE = 100 * 1024;\n",
              "\n",
              "function _uploadFiles(inputId, outputId) {\n",
              "  const steps = uploadFilesStep(inputId, outputId);\n",
              "  const outputElement = document.getElementById(outputId);\n",
              "  // Cache steps on the outputElement to make it available for the next call\n",
              "  // to uploadFilesContinue from Python.\n",
              "  outputElement.steps = steps;\n",
              "\n",
              "  return _uploadFilesContinue(outputId);\n",
              "}\n",
              "\n",
              "// This is roughly an async generator (not supported in the browser yet),\n",
              "// where there are multiple asynchronous steps and the Python side is going\n",
              "// to poll for completion of each step.\n",
              "// This uses a Promise to block the python side on completion of each step,\n",
              "// then passes the result of the previous step as the input to the next step.\n",
              "function _uploadFilesContinue(outputId) {\n",
              "  const outputElement = document.getElementById(outputId);\n",
              "  const steps = outputElement.steps;\n",
              "\n",
              "  const next = steps.next(outputElement.lastPromiseValue);\n",
              "  return Promise.resolve(next.value.promise).then((value) => {\n",
              "    // Cache the last promise value to make it available to the next\n",
              "    // step of the generator.\n",
              "    outputElement.lastPromiseValue = value;\n",
              "    return next.value.response;\n",
              "  });\n",
              "}\n",
              "\n",
              "/**\n",
              " * Generator function which is called between each async step of the upload\n",
              " * process.\n",
              " * @param {string} inputId Element ID of the input file picker element.\n",
              " * @param {string} outputId Element ID of the output display.\n",
              " * @return {!Iterable<!Object>} Iterable of next steps.\n",
              " */\n",
              "function* uploadFilesStep(inputId, outputId) {\n",
              "  const inputElement = document.getElementById(inputId);\n",
              "  inputElement.disabled = false;\n",
              "\n",
              "  const outputElement = document.getElementById(outputId);\n",
              "  outputElement.innerHTML = '';\n",
              "\n",
              "  const pickedPromise = new Promise((resolve) => {\n",
              "    inputElement.addEventListener('change', (e) => {\n",
              "      resolve(e.target.files);\n",
              "    });\n",
              "  });\n",
              "\n",
              "  const cancel = document.createElement('button');\n",
              "  inputElement.parentElement.appendChild(cancel);\n",
              "  cancel.textContent = 'Cancel upload';\n",
              "  const cancelPromise = new Promise((resolve) => {\n",
              "    cancel.onclick = () => {\n",
              "      resolve(null);\n",
              "    };\n",
              "  });\n",
              "\n",
              "  // Wait for the user to pick the files.\n",
              "  const files = yield {\n",
              "    promise: Promise.race([pickedPromise, cancelPromise]),\n",
              "    response: {\n",
              "      action: 'starting',\n",
              "    }\n",
              "  };\n",
              "\n",
              "  cancel.remove();\n",
              "\n",
              "  // Disable the input element since further picks are not allowed.\n",
              "  inputElement.disabled = true;\n",
              "\n",
              "  if (!files) {\n",
              "    return {\n",
              "      response: {\n",
              "        action: 'complete',\n",
              "      }\n",
              "    };\n",
              "  }\n",
              "\n",
              "  for (const file of files) {\n",
              "    const li = document.createElement('li');\n",
              "    li.append(span(file.name, {fontWeight: 'bold'}));\n",
              "    li.append(span(\n",
              "        `(${file.type || 'n/a'}) - ${file.size} bytes, ` +\n",
              "        `last modified: ${\n",
              "            file.lastModifiedDate ? file.lastModifiedDate.toLocaleDateString() :\n",
              "                                    'n/a'} - `));\n",
              "    const percent = span('0% done');\n",
              "    li.appendChild(percent);\n",
              "\n",
              "    outputElement.appendChild(li);\n",
              "\n",
              "    const fileDataPromise = new Promise((resolve) => {\n",
              "      const reader = new FileReader();\n",
              "      reader.onload = (e) => {\n",
              "        resolve(e.target.result);\n",
              "      };\n",
              "      reader.readAsArrayBuffer(file);\n",
              "    });\n",
              "    // Wait for the data to be ready.\n",
              "    let fileData = yield {\n",
              "      promise: fileDataPromise,\n",
              "      response: {\n",
              "        action: 'continue',\n",
              "      }\n",
              "    };\n",
              "\n",
              "    // Use a chunked sending to avoid message size limits. See b/62115660.\n",
              "    let position = 0;\n",
              "    do {\n",
              "      const length = Math.min(fileData.byteLength - position, MAX_PAYLOAD_SIZE);\n",
              "      const chunk = new Uint8Array(fileData, position, length);\n",
              "      position += length;\n",
              "\n",
              "      const base64 = btoa(String.fromCharCode.apply(null, chunk));\n",
              "      yield {\n",
              "        response: {\n",
              "          action: 'append',\n",
              "          file: file.name,\n",
              "          data: base64,\n",
              "        },\n",
              "      };\n",
              "\n",
              "      let percentDone = fileData.byteLength === 0 ?\n",
              "          100 :\n",
              "          Math.round((position / fileData.byteLength) * 100);\n",
              "      percent.textContent = `${percentDone}% done`;\n",
              "\n",
              "    } while (position < fileData.byteLength);\n",
              "  }\n",
              "\n",
              "  // All done.\n",
              "  yield {\n",
              "    response: {\n",
              "      action: 'complete',\n",
              "    }\n",
              "  };\n",
              "}\n",
              "\n",
              "scope.google = scope.google || {};\n",
              "scope.google.colab = scope.google.colab || {};\n",
              "scope.google.colab._files = {\n",
              "  _uploadFiles,\n",
              "  _uploadFilesContinue,\n",
              "};\n",
              "})(self);\n",
              "</script> "
            ]
          },
          "metadata": {}
        },
        {
          "output_type": "stream",
          "name": "stdout",
          "text": [
            "Saving 5b62dc85-ff69-423d-9fde-15fedcb8911f.jpg to 5b62dc85-ff69-423d-9fde-15fedcb8911f.jpg\n",
            "Saving 50YI0NEQ2NF2.jpg to 50YI0NEQ2NF2 (1).jpg\n",
            "Saving 52HYZDV7D22S.jpg to 52HYZDV7D22S (1).jpg\n",
            "Saving 54RZ9YOGWZPM.jpg to 54RZ9YOGWZPM (1).jpg\n",
            "Saving 445.jpg to 445 (1).jpg\n",
            "Saving 446.jpg to 446 (1).jpg\n",
            "Saving 447.jpg to 447 (1).jpg\n",
            "1/1 [==============================] - 0s 18ms/step\n",
            "False 0.9154335\n",
            "1/1 [==============================] - 0s 21ms/step\n",
            "True 0.99999785\n",
            "1/1 [==============================] - 0s 17ms/step\n",
            "True 0.9999974\n",
            "1/1 [==============================] - 0s 22ms/step\n",
            "True 0.9999976\n",
            "1/1 [==============================] - 0s 17ms/step\n",
            "True 0.50647116\n",
            "1/1 [==============================] - 0s 20ms/step\n",
            "False 0.9974995\n",
            "1/1 [==============================] - 0s 21ms/step\n",
            "False 0.9706442\n"
          ]
        }
      ]
    },
    {
      "cell_type": "code",
      "source": [
        "predictions = model.predict(test_generator)\n",
        "\n",
        "predicted_labels = np.argmax(predictions, axis=1)\n",
        "\n",
        "true_labels = test_generator.classes\n",
        "\n",
        "cm = confusion_matrix(true_labels, predicted_labels)\n",
        "print(cm)\n",
        "\n",
        "report = classification_report(true_labels, predicted_labels)\n",
        "print(report)"
      ],
      "metadata": {
        "colab": {
          "base_uri": "https://localhost:8080/"
        },
        "id": "76eGAbzI-PaE",
        "outputId": "3a3fb0ac-9c27-40c9-9a79-06c5719e3397"
      },
      "execution_count": null,
      "outputs": [
        {
          "output_type": "stream",
          "name": "stdout",
          "text": [
            "15/15 [==============================] - 9s 606ms/step\n",
            "[[116  55]\n",
            " [ 39  29]]\n",
            "              precision    recall  f1-score   support\n",
            "\n",
            "           0       0.75      0.68      0.71       171\n",
            "           1       0.35      0.43      0.38        68\n",
            "\n",
            "    accuracy                           0.61       239\n",
            "   macro avg       0.55      0.55      0.55       239\n",
            "weighted avg       0.63      0.61      0.62       239\n",
            "\n"
          ]
        }
      ]
    },
    {
      "cell_type": "code",
      "source": [],
      "metadata": {
        "id": "baUxtzTN2oee"
      },
      "execution_count": null,
      "outputs": []
    }
  ]
}